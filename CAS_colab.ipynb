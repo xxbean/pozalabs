{
  "cells": [
    {
      "cell_type": "code",
      "source": [
        "from torch import cuda\n",
        "\n",
        "device = 'cuda' if cuda.is_available() else 'cpu'"
      ],
      "metadata": {
        "id": "EaEy2ij3Jqjg"
      },
      "id": "EaEy2ij3Jqjg",
      "execution_count": 1,
      "outputs": []
    },
    {
      "cell_type": "code",
      "source": [
        "!git clone https://github.com/xxbean/pozalabs"
      ],
      "metadata": {
        "colab": {
          "base_uri": "https://localhost:8080/"
        },
        "id": "PDNNZXXaIXlg",
        "outputId": "f6121f86-3a4f-4e51-f261-297723e31fb5"
      },
      "id": "PDNNZXXaIXlg",
      "execution_count": 2,
      "outputs": [
        {
          "output_type": "stream",
          "name": "stdout",
          "text": [
            "Cloning into 'pozalabs'...\n",
            "remote: Enumerating objects: 91, done.\u001b[K\n",
            "remote: Counting objects: 100% (22/22), done.\u001b[K\n",
            "remote: Compressing objects: 100% (21/21), done.\u001b[K\n",
            "remote: Total 91 (delta 1), reused 0 (delta 0), pack-reused 69\u001b[K\n",
            "Unpacking objects: 100% (91/91), 64.63 MiB | 5.43 MiB/s, done.\n"
          ]
        }
      ]
    },
    {
      "cell_type": "code",
      "source": [],
      "metadata": {
        "id": "YpvCZ3nIJHqF"
      },
      "id": "YpvCZ3nIJHqF",
      "execution_count": 4,
      "outputs": []
    },
    {
      "cell_type": "code",
      "execution_count": 4,
      "id": "51c6ca25",
      "metadata": {
        "id": "51c6ca25"
      },
      "outputs": [],
      "source": [
        "import sys\n",
        "sys.path.append(\"/content/pozalabs/ComMU-code\")\n",
        "sys.path.append(\"/content/pozalabs/Multi-Scale-1D-ResNet\")\n",
        "from model.multi_scale_ori import *\n",
        "from model.meta_labeling import * #여기에 메타 데이터 함수 정보 있음\n",
        "import torch\n",
        "import numpy as np\n",
        "from torchsummary import summary\n",
        "import torch.optim as optim\n",
        "from torch.utils.data import Dataset\n",
        "from torch.utils.data import DataLoader\n",
        "import tqdm\n",
        "import torch.nn.functional as F\n",
        "import sys\n",
        "import glob"
      ]
    },
    {
      "cell_type": "code",
      "execution_count": 9,
      "id": "2a01c6d9",
      "metadata": {
        "colab": {
          "base_uri": "https://localhost:8080/"
        },
        "id": "2a01c6d9",
        "outputId": "990b37a3-cdab-4213-bba7-390cd9bd4780"
      },
      "outputs": [
        {
          "output_type": "stream",
          "name": "stdout",
          "text": [
            "/content/pozalabs\n",
            "\u001b[0m\u001b[01;34mComMU-code\u001b[0m/  \u001b[01;34mMulti-Scale-1D-ResNet\u001b[0m/  README.md\n"
          ]
        }
      ],
      "source": [
        "\n",
        "%cd /content/pozalabs/\n",
        "%ls"
      ]
    },
    {
      "cell_type": "code",
      "execution_count": 10,
      "id": "fa199246",
      "metadata": {
        "id": "fa199246"
      },
      "outputs": [],
      "source": [
        "import glob\n",
        "\n",
        "\n",
        "raw_train = glob.glob(\"./ComMU-code/dataset/commu_midi/train/raw/**\")\n",
        "raw_val = glob.glob(\"./ComMU-code/dataset/commu_midi/val/raw/**\")\n",
        "train_meta_npy_ = np.load(\"./ComMU-code/dataset/commu_midi/output_npy_/input_train.npy\", allow_pickle=True)\n",
        "train_midi_npy_ = np.load(\"./ComMU-code/dataset/commu_midi/output_npy_/target_train.npy\", allow_pickle=True)\n",
        "val_meta_npy_ = np.load(\"./ComMU-code/dataset/commu_midi/output_npy_/input_val.npy\", allow_pickle=True)\n",
        "val_midi_npy_ = np.load(\"./ComMU-code/dataset/commu_midi/output_npy_/target_val.npy\", allow_pickle=True)\n",
        "\n",
        "label_list = np.unique(train_meta_npy_[:,0])"
      ]
    },
    {
      "cell_type": "code",
      "source": [
        "# !unzip /content/drive/MyDrive/ComMU-code/dataset/commu_midi/output_npy.zip -d /content/drive/MyDrive/ComMU-code/dataset/commu_midi"
      ],
      "metadata": {
        "colab": {
          "base_uri": "https://localhost:8080/"
        },
        "id": "dOC101p5SMuS",
        "outputId": "cef78b6f-ac84-4077-b5b4-247732f4011f"
      },
      "id": "dOC101p5SMuS",
      "execution_count": 10,
      "outputs": [
        {
          "output_type": "stream",
          "name": "stdout",
          "text": [
            "Archive:  /content/drive/MyDrive/ComMU-code/dataset/commu_midi/output_npy.zip\n",
            "replace /content/drive/MyDrive/ComMU-code/dataset/commu_midi/output_npy_/input_train.npy? [y]es, [n]o, [A]ll, [N]one, [r]ename: y\n",
            "  inflating: /content/drive/MyDrive/ComMU-code/dataset/commu_midi/output_npy_/input_train.npy  \n",
            "replace /content/drive/MyDrive/ComMU-code/dataset/commu_midi/output_npy_/target_val.npy? [y]es, [n]o, [A]ll, [N]one, [r]ename: "
          ]
        }
      ]
    },
    {
      "cell_type": "code",
      "execution_count": 12,
      "id": "f77b8542",
      "metadata": {
        "id": "f77b8542"
      },
      "outputs": [],
      "source": [
        "class Commu(Dataset):\n",
        "    def __init__(self, meta_npy, midi_npy,seq_len):\n",
        "        self.meta_npy = meta_npy\n",
        "        self.midi_npy = midi_npy\n",
        "        self.seq_len = seq_len\n",
        "        self.label_npy = np.zeros_like(self.meta_npy)\n",
        "        for i in range(11):\n",
        "            self.label_npy[:,i] = np.array(list(map(meta_list[i],meta_npy[:,i])))\n",
        "\n",
        "    def __len__(self):\n",
        "        return len(self.meta_npy)\n",
        "\n",
        "    def __getitem__(self, idx):\n",
        "        label = self.label_npy[idx]\n",
        "        midi = np.zeros((1,self.seq_len))\n",
        "        midi_real = self.midi_npy[idx][:self.seq_len]\n",
        "        midi[:,:len(midi_real)] = midi_real\n",
        "        midi = torch.tensor(midi.tolist(),dtype=torch.float)\n",
        "        label = torch.tensor(label.tolist(),dtype=torch.float)\n",
        "        return midi,label"
      ]
    },
    {
      "cell_type": "code",
      "execution_count": 13,
      "id": "24a13c69",
      "metadata": {
        "id": "24a13c69"
      },
      "outputs": [],
      "source": [
        "real_data = Commu(train_meta_npy_, train_midi_npy_,512)\n",
        "real_loader = DataLoader(real_data, batch_size=256, shuffle=True)\n",
        "val_data = Commu(val_meta_npy_, val_midi_npy_,512)\n",
        "val_loader = DataLoader(val_data, batch_size=256, shuffle=True)"
      ]
    },
    {
      "cell_type": "code",
      "execution_count": 14,
      "id": "8c0d1156",
      "metadata": {
        "id": "8c0d1156"
      },
      "outputs": [],
      "source": [
        "test_batch = next(iter(real_loader))[0]\n",
        "test_target = next(iter(real_loader))[1]"
      ]
    },
    {
      "cell_type": "markdown",
      "source": [],
      "metadata": {
        "id": "8drD29ryrCn4"
      },
      "id": "8drD29ryrCn4"
    },
    {
      "cell_type": "code",
      "source": [
        "msresnet = MSResNet(input_channel=1, layers=[1, 1, 1, 1], num_classes=5)\n",
        "msresnet = msresnet.cuda()\n",
        "# summary(msresnet,(1,512))"
      ],
      "metadata": {
        "id": "gxuKgj9lrCA_"
      },
      "id": "gxuKgj9lrCA_",
      "execution_count": 15,
      "outputs": []
    },
    {
      "cell_type": "code",
      "execution_count": 16,
      "id": "4beae7f8",
      "metadata": {
        "id": "4beae7f8"
      },
      "outputs": [],
      "source": [
        "criterion = nn.CrossEntropyLoss()\n",
        "optimizer = optim.SGD(msresnet.parameters(), lr=0.001, momentum=0.9)\n",
        "num_epochs = 100\n",
        "meta_num = 1"
      ]
    },
    {
      "cell_type": "code",
      "execution_count": 17,
      "id": "f3b6a2e1",
      "metadata": {
        "colab": {
          "base_uri": "https://localhost:8080/"
        },
        "id": "f3b6a2e1",
        "outputId": "c61cf33f-9331-4c51-8ef4-87a4a99b0c3b"
      },
      "outputs": [
        {
          "output_type": "stream",
          "name": "stdout",
          "text": [
            "tensor([1, 2, 1, 1, 0, 4, 1, 1, 0, 0, 0, 0, 2, 1, 0, 1, 1, 2, 1, 1, 4, 4, 1, 0,\n",
            "        4, 0, 1, 0, 2, 1, 1, 1, 4, 0, 1, 2, 0, 2, 1, 1, 0, 0, 1, 2, 4, 3, 2, 1,\n",
            "        0, 1, 0, 1, 3, 0, 1, 1, 4, 0, 0, 2, 2, 0, 2, 1, 0, 0, 4, 0, 0, 0, 0, 2,\n",
            "        0, 0, 0, 2, 2, 4, 0, 1, 0, 2, 0, 1, 4, 4, 0, 2, 0, 0, 0, 3, 1, 0, 0, 2,\n",
            "        0, 0, 2, 1, 0, 0, 1, 2, 2, 0, 0, 1, 2, 2, 4, 0, 4, 0, 1, 0, 2, 4, 2, 1,\n",
            "        0, 1, 0, 1, 0, 0, 2, 1, 0, 0, 1, 1, 0, 0, 4, 0, 2, 1, 4, 1, 0, 0, 2, 2,\n",
            "        0, 4, 2, 4, 0, 1, 2, 0, 0, 1, 1, 1, 1, 0, 2, 4, 4, 0, 4, 1, 4, 0, 0, 1,\n",
            "        2, 1, 4, 4, 4, 0, 0, 1, 4, 2, 0, 4, 1, 2, 2, 1, 2, 1, 1, 4, 2, 2, 2, 1,\n",
            "        0, 1, 0, 0, 2, 4, 1, 2, 2, 0, 0, 0, 0, 0, 0, 4, 2, 0, 1, 4, 0, 0, 4, 2,\n",
            "        2, 4, 0, 1, 4, 4, 0, 0, 1, 0, 4, 4, 0, 0, 0, 1, 0, 0, 1, 1, 4, 0, 0, 1,\n",
            "        0, 4, 0, 1, 2, 0, 2, 4, 1, 0, 0, 0, 1, 1, 0, 1])\n",
            "tensor([4., 6., 7., 3., 4., 2., 7., 3., 6., 6., 7., 3., 7., 2., 6., 3., 2., 4.,\n",
            "        3., 5., 7., 3., 3., 4., 2., 6., 4., 3., 4., 5., 6., 5., 3., 4., 3., 4.,\n",
            "        4., 3., 4., 3., 3., 3., 4., 4., 4., 4., 2., 3., 4., 4., 3., 4., 6., 2.,\n",
            "        7., 7., 3., 6., 3., 2., 3., 7., 3., 4., 4., 4., 7., 5., 3., 7., 4., 4.,\n",
            "        6., 4., 7., 3., 4., 4., 6., 4., 7., 6., 4., 6., 3., 5., 5., 6., 3., 3.,\n",
            "        1., 5., 4., 6., 2., 7., 4., 3., 4., 1., 7., 2., 3., 3., 3., 6., 4., 6.,\n",
            "        2., 3., 4., 6., 6., 3., 3., 6., 7., 5., 4., 4., 5., 4., 7., 4., 4., 4.,\n",
            "        4., 6., 6., 4., 4., 3., 7., 6., 3., 4., 4., 5., 3., 6., 4., 6., 4., 2.,\n",
            "        4., 2., 6., 4., 3., 6., 6., 2., 6., 7., 4., 2., 5., 5., 7., 2., 3., 4.,\n",
            "        4., 5., 6., 6., 7., 3., 7., 2., 5., 4., 7., 5., 3., 2., 2., 6., 6., 6.,\n",
            "        2., 7., 5., 7., 2., 6., 6., 2., 4., 4., 4., 4., 3., 2., 4., 7., 3., 4.,\n",
            "        6., 4., 6., 4., 6., 4., 3., 4., 3., 4., 5., 2., 4., 2., 6., 2., 3., 6.,\n",
            "        3., 4., 4., 2., 3., 2., 7., 4., 3., 4., 7., 3., 3., 6., 6., 4., 6., 6.,\n",
            "        4., 3., 5., 7., 2., 7., 4., 4., 6., 2., 3., 7., 3., 4., 6., 3., 2., 4.,\n",
            "        4., 7., 4., 4.])\n"
          ]
        },
        {
          "output_type": "execute_result",
          "data": {
            "text/plain": [
              "tensor(17)"
            ]
          },
          "metadata": {},
          "execution_count": 17
        }
      ],
      "source": [
        "pred = msresnet(test_batch.cuda())[0].argmax(1).cpu()\n",
        "print(pred)\n",
        "print(test_target[:,0])\n",
        "sum(test_target[:,0]==pred)"
      ]
    },
    {
      "cell_type": "code",
      "execution_count": 18,
      "id": "e2b536c1",
      "metadata": {
        "colab": {
          "base_uri": "https://localhost:8080/",
          "height": 426
        },
        "id": "e2b536c1",
        "outputId": "d8cd8d4c-3c45-4f1a-f29d-d9ed081f955a"
      },
      "outputs": [
        {
          "output_type": "stream",
          "name": "stderr",
          "text": [
            "100%|██████████| 41/41 [00:03<00:00, 13.36it/s]\n"
          ]
        },
        {
          "output_type": "stream",
          "name": "stdout",
          "text": [
            "0.7445349358930821\n"
          ]
        },
        {
          "output_type": "stream",
          "name": "stderr",
          "text": [
            " 85%|████████▌ | 35/41 [00:01<00:00, 17.74it/s]\n"
          ]
        },
        {
          "output_type": "error",
          "ename": "KeyboardInterrupt",
          "evalue": "ignored",
          "traceback": [
            "\u001b[0;31m---------------------------------------------------------------------------\u001b[0m",
            "\u001b[0;31mKeyboardInterrupt\u001b[0m                         Traceback (most recent call last)",
            "\u001b[0;32m<ipython-input-18-1539d00529fd>\u001b[0m in \u001b[0;36m<module>\u001b[0;34m\u001b[0m\n\u001b[1;32m     14\u001b[0m \u001b[0;34m\u001b[0m\u001b[0m\n\u001b[1;32m     15\u001b[0m         \u001b[0;31m# forward + backward + optimize\u001b[0m\u001b[0;34m\u001b[0m\u001b[0;34m\u001b[0m\u001b[0m\n\u001b[0;32m---> 16\u001b[0;31m         \u001b[0moutputs\u001b[0m \u001b[0;34m=\u001b[0m \u001b[0mmsresnet\u001b[0m\u001b[0;34m(\u001b[0m\u001b[0mmidi\u001b[0m\u001b[0;34m)\u001b[0m\u001b[0;34m[\u001b[0m\u001b[0;36m0\u001b[0m\u001b[0;34m]\u001b[0m\u001b[0;34m\u001b[0m\u001b[0;34m\u001b[0m\u001b[0m\n\u001b[0m\u001b[1;32m     17\u001b[0m         \u001b[0mloss\u001b[0m \u001b[0;34m=\u001b[0m \u001b[0mcriterion\u001b[0m\u001b[0;34m(\u001b[0m\u001b[0moutputs\u001b[0m\u001b[0;34m,\u001b[0m \u001b[0mlabel\u001b[0m\u001b[0;34m.\u001b[0m\u001b[0mlong\u001b[0m\u001b[0;34m(\u001b[0m\u001b[0;34m)\u001b[0m\u001b[0;34m)\u001b[0m\u001b[0;34m\u001b[0m\u001b[0;34m\u001b[0m\u001b[0m\n\u001b[1;32m     18\u001b[0m         \u001b[0mloss\u001b[0m\u001b[0;34m.\u001b[0m\u001b[0mbackward\u001b[0m\u001b[0;34m(\u001b[0m\u001b[0;34m)\u001b[0m\u001b[0;34m\u001b[0m\u001b[0;34m\u001b[0m\u001b[0m\n",
            "\u001b[0;32m/usr/local/lib/python3.9/dist-packages/torch/nn/modules/module.py\u001b[0m in \u001b[0;36m_call_impl\u001b[0;34m(self, *input, **kwargs)\u001b[0m\n\u001b[1;32m   1192\u001b[0m         if not (self._backward_hooks or self._forward_hooks or self._forward_pre_hooks or _global_backward_hooks\n\u001b[1;32m   1193\u001b[0m                 or _global_forward_hooks or _global_forward_pre_hooks):\n\u001b[0;32m-> 1194\u001b[0;31m             \u001b[0;32mreturn\u001b[0m \u001b[0mforward_call\u001b[0m\u001b[0;34m(\u001b[0m\u001b[0;34m*\u001b[0m\u001b[0minput\u001b[0m\u001b[0;34m,\u001b[0m \u001b[0;34m**\u001b[0m\u001b[0mkwargs\u001b[0m\u001b[0;34m)\u001b[0m\u001b[0;34m\u001b[0m\u001b[0;34m\u001b[0m\u001b[0m\n\u001b[0m\u001b[1;32m   1195\u001b[0m         \u001b[0;31m# Do not call functions when jit is used\u001b[0m\u001b[0;34m\u001b[0m\u001b[0;34m\u001b[0m\u001b[0m\n\u001b[1;32m   1196\u001b[0m         \u001b[0mfull_backward_hooks\u001b[0m\u001b[0;34m,\u001b[0m \u001b[0mnon_full_backward_hooks\u001b[0m \u001b[0;34m=\u001b[0m \u001b[0;34m[\u001b[0m\u001b[0;34m]\u001b[0m\u001b[0;34m,\u001b[0m \u001b[0;34m[\u001b[0m\u001b[0;34m]\u001b[0m\u001b[0;34m\u001b[0m\u001b[0;34m\u001b[0m\u001b[0m\n",
            "\u001b[0;32m/content/pozalabs/Multi-Scale-1D-ResNet/model/multi_scale_ori.py\u001b[0m in \u001b[0;36mforward\u001b[0;34m(self, x0)\u001b[0m\n\u001b[1;32m    235\u001b[0m         \u001b[0mx\u001b[0m \u001b[0;34m=\u001b[0m \u001b[0mself\u001b[0m\u001b[0;34m.\u001b[0m\u001b[0mmaxpool3\u001b[0m\u001b[0;34m(\u001b[0m\u001b[0mx\u001b[0m\u001b[0;34m)\u001b[0m\u001b[0;34m\u001b[0m\u001b[0;34m\u001b[0m\u001b[0m\n\u001b[1;32m    236\u001b[0m \u001b[0;34m\u001b[0m\u001b[0m\n\u001b[0;32m--> 237\u001b[0;31m         \u001b[0my\u001b[0m \u001b[0;34m=\u001b[0m \u001b[0mself\u001b[0m\u001b[0;34m.\u001b[0m\u001b[0mlayer5x5_1\u001b[0m\u001b[0;34m(\u001b[0m\u001b[0mx0\u001b[0m\u001b[0;34m)\u001b[0m\u001b[0;34m\u001b[0m\u001b[0;34m\u001b[0m\u001b[0m\n\u001b[0m\u001b[1;32m    238\u001b[0m         \u001b[0my\u001b[0m \u001b[0;34m=\u001b[0m \u001b[0mself\u001b[0m\u001b[0;34m.\u001b[0m\u001b[0mlayer5x5_2\u001b[0m\u001b[0;34m(\u001b[0m\u001b[0my\u001b[0m\u001b[0;34m)\u001b[0m\u001b[0;34m\u001b[0m\u001b[0;34m\u001b[0m\u001b[0m\n\u001b[1;32m    239\u001b[0m         \u001b[0my\u001b[0m \u001b[0;34m=\u001b[0m \u001b[0mself\u001b[0m\u001b[0;34m.\u001b[0m\u001b[0mlayer5x5_3\u001b[0m\u001b[0;34m(\u001b[0m\u001b[0my\u001b[0m\u001b[0;34m)\u001b[0m\u001b[0;34m\u001b[0m\u001b[0;34m\u001b[0m\u001b[0m\n",
            "\u001b[0;32m/usr/local/lib/python3.9/dist-packages/torch/nn/modules/module.py\u001b[0m in \u001b[0;36m_call_impl\u001b[0;34m(self, *input, **kwargs)\u001b[0m\n\u001b[1;32m   1192\u001b[0m         if not (self._backward_hooks or self._forward_hooks or self._forward_pre_hooks or _global_backward_hooks\n\u001b[1;32m   1193\u001b[0m                 or _global_forward_hooks or _global_forward_pre_hooks):\n\u001b[0;32m-> 1194\u001b[0;31m             \u001b[0;32mreturn\u001b[0m \u001b[0mforward_call\u001b[0m\u001b[0;34m(\u001b[0m\u001b[0;34m*\u001b[0m\u001b[0minput\u001b[0m\u001b[0;34m,\u001b[0m \u001b[0;34m**\u001b[0m\u001b[0mkwargs\u001b[0m\u001b[0;34m)\u001b[0m\u001b[0;34m\u001b[0m\u001b[0;34m\u001b[0m\u001b[0m\n\u001b[0m\u001b[1;32m   1195\u001b[0m         \u001b[0;31m# Do not call functions when jit is used\u001b[0m\u001b[0;34m\u001b[0m\u001b[0;34m\u001b[0m\u001b[0m\n\u001b[1;32m   1196\u001b[0m         \u001b[0mfull_backward_hooks\u001b[0m\u001b[0;34m,\u001b[0m \u001b[0mnon_full_backward_hooks\u001b[0m \u001b[0;34m=\u001b[0m \u001b[0;34m[\u001b[0m\u001b[0;34m]\u001b[0m\u001b[0;34m,\u001b[0m \u001b[0;34m[\u001b[0m\u001b[0;34m]\u001b[0m\u001b[0;34m\u001b[0m\u001b[0;34m\u001b[0m\u001b[0m\n",
            "\u001b[0;32m/usr/local/lib/python3.9/dist-packages/torch/nn/modules/container.py\u001b[0m in \u001b[0;36mforward\u001b[0;34m(self, input)\u001b[0m\n\u001b[1;32m    202\u001b[0m     \u001b[0;32mdef\u001b[0m \u001b[0mforward\u001b[0m\u001b[0;34m(\u001b[0m\u001b[0mself\u001b[0m\u001b[0;34m,\u001b[0m \u001b[0minput\u001b[0m\u001b[0;34m)\u001b[0m\u001b[0;34m:\u001b[0m\u001b[0;34m\u001b[0m\u001b[0;34m\u001b[0m\u001b[0m\n\u001b[1;32m    203\u001b[0m         \u001b[0;32mfor\u001b[0m \u001b[0mmodule\u001b[0m \u001b[0;32min\u001b[0m \u001b[0mself\u001b[0m\u001b[0;34m:\u001b[0m\u001b[0;34m\u001b[0m\u001b[0;34m\u001b[0m\u001b[0m\n\u001b[0;32m--> 204\u001b[0;31m             \u001b[0minput\u001b[0m \u001b[0;34m=\u001b[0m \u001b[0mmodule\u001b[0m\u001b[0;34m(\u001b[0m\u001b[0minput\u001b[0m\u001b[0;34m)\u001b[0m\u001b[0;34m\u001b[0m\u001b[0;34m\u001b[0m\u001b[0m\n\u001b[0m\u001b[1;32m    205\u001b[0m         \u001b[0;32mreturn\u001b[0m \u001b[0minput\u001b[0m\u001b[0;34m\u001b[0m\u001b[0;34m\u001b[0m\u001b[0m\n\u001b[1;32m    206\u001b[0m \u001b[0;34m\u001b[0m\u001b[0m\n",
            "\u001b[0;32m/usr/local/lib/python3.9/dist-packages/torch/nn/modules/module.py\u001b[0m in \u001b[0;36m_call_impl\u001b[0;34m(self, *input, **kwargs)\u001b[0m\n\u001b[1;32m   1192\u001b[0m         if not (self._backward_hooks or self._forward_hooks or self._forward_pre_hooks or _global_backward_hooks\n\u001b[1;32m   1193\u001b[0m                 or _global_forward_hooks or _global_forward_pre_hooks):\n\u001b[0;32m-> 1194\u001b[0;31m             \u001b[0;32mreturn\u001b[0m \u001b[0mforward_call\u001b[0m\u001b[0;34m(\u001b[0m\u001b[0;34m*\u001b[0m\u001b[0minput\u001b[0m\u001b[0;34m,\u001b[0m \u001b[0;34m**\u001b[0m\u001b[0mkwargs\u001b[0m\u001b[0;34m)\u001b[0m\u001b[0;34m\u001b[0m\u001b[0;34m\u001b[0m\u001b[0m\n\u001b[0m\u001b[1;32m   1195\u001b[0m         \u001b[0;31m# Do not call functions when jit is used\u001b[0m\u001b[0;34m\u001b[0m\u001b[0;34m\u001b[0m\u001b[0m\n\u001b[1;32m   1196\u001b[0m         \u001b[0mfull_backward_hooks\u001b[0m\u001b[0;34m,\u001b[0m \u001b[0mnon_full_backward_hooks\u001b[0m \u001b[0;34m=\u001b[0m \u001b[0;34m[\u001b[0m\u001b[0;34m]\u001b[0m\u001b[0;34m,\u001b[0m \u001b[0;34m[\u001b[0m\u001b[0;34m]\u001b[0m\u001b[0;34m\u001b[0m\u001b[0;34m\u001b[0m\u001b[0m\n",
            "\u001b[0;32m/content/pozalabs/Multi-Scale-1D-ResNet/model/multi_scale_ori.py\u001b[0m in \u001b[0;36mforward\u001b[0;34m(self, x)\u001b[0m\n\u001b[1;32m     80\u001b[0m         \u001b[0md\u001b[0m \u001b[0;34m=\u001b[0m \u001b[0mresidual\u001b[0m\u001b[0;34m.\u001b[0m\u001b[0mshape\u001b[0m\u001b[0;34m[\u001b[0m\u001b[0;36m2\u001b[0m\u001b[0;34m]\u001b[0m \u001b[0;34m-\u001b[0m \u001b[0mout\u001b[0m\u001b[0;34m.\u001b[0m\u001b[0mshape\u001b[0m\u001b[0;34m[\u001b[0m\u001b[0;36m2\u001b[0m\u001b[0;34m]\u001b[0m\u001b[0;34m\u001b[0m\u001b[0;34m\u001b[0m\u001b[0m\n\u001b[1;32m     81\u001b[0m         \u001b[0mout1\u001b[0m \u001b[0;34m=\u001b[0m \u001b[0mresidual\u001b[0m\u001b[0;34m[\u001b[0m\u001b[0;34m:\u001b[0m\u001b[0;34m,\u001b[0m\u001b[0;34m:\u001b[0m\u001b[0;34m,\u001b[0m\u001b[0;36m0\u001b[0m\u001b[0;34m:\u001b[0m\u001b[0;34m-\u001b[0m\u001b[0md\u001b[0m\u001b[0;34m]\u001b[0m \u001b[0;34m+\u001b[0m \u001b[0mout\u001b[0m\u001b[0;34m\u001b[0m\u001b[0;34m\u001b[0m\u001b[0m\n\u001b[0;32m---> 82\u001b[0;31m         \u001b[0mout1\u001b[0m \u001b[0;34m=\u001b[0m \u001b[0mself\u001b[0m\u001b[0;34m.\u001b[0m\u001b[0mrelu\u001b[0m\u001b[0;34m(\u001b[0m\u001b[0mout1\u001b[0m\u001b[0;34m)\u001b[0m\u001b[0;34m\u001b[0m\u001b[0;34m\u001b[0m\u001b[0m\n\u001b[0m\u001b[1;32m     83\u001b[0m         \u001b[0;31m# out += residual\u001b[0m\u001b[0;34m\u001b[0m\u001b[0;34m\u001b[0m\u001b[0m\n\u001b[1;32m     84\u001b[0m \u001b[0;34m\u001b[0m\u001b[0m\n",
            "\u001b[0;32m/usr/local/lib/python3.9/dist-packages/torch/nn/modules/module.py\u001b[0m in \u001b[0;36m_call_impl\u001b[0;34m(self, *input, **kwargs)\u001b[0m\n\u001b[1;32m   1192\u001b[0m         if not (self._backward_hooks or self._forward_hooks or self._forward_pre_hooks or _global_backward_hooks\n\u001b[1;32m   1193\u001b[0m                 or _global_forward_hooks or _global_forward_pre_hooks):\n\u001b[0;32m-> 1194\u001b[0;31m             \u001b[0;32mreturn\u001b[0m \u001b[0mforward_call\u001b[0m\u001b[0;34m(\u001b[0m\u001b[0;34m*\u001b[0m\u001b[0minput\u001b[0m\u001b[0;34m,\u001b[0m \u001b[0;34m**\u001b[0m\u001b[0mkwargs\u001b[0m\u001b[0;34m)\u001b[0m\u001b[0;34m\u001b[0m\u001b[0;34m\u001b[0m\u001b[0m\n\u001b[0m\u001b[1;32m   1195\u001b[0m         \u001b[0;31m# Do not call functions when jit is used\u001b[0m\u001b[0;34m\u001b[0m\u001b[0;34m\u001b[0m\u001b[0m\n\u001b[1;32m   1196\u001b[0m         \u001b[0mfull_backward_hooks\u001b[0m\u001b[0;34m,\u001b[0m \u001b[0mnon_full_backward_hooks\u001b[0m \u001b[0;34m=\u001b[0m \u001b[0;34m[\u001b[0m\u001b[0;34m]\u001b[0m\u001b[0;34m,\u001b[0m \u001b[0;34m[\u001b[0m\u001b[0;34m]\u001b[0m\u001b[0;34m\u001b[0m\u001b[0;34m\u001b[0m\u001b[0m\n",
            "\u001b[0;32m/usr/local/lib/python3.9/dist-packages/torch/nn/modules/activation.py\u001b[0m in \u001b[0;36mforward\u001b[0;34m(self, input)\u001b[0m\n\u001b[1;32m    100\u001b[0m \u001b[0;34m\u001b[0m\u001b[0m\n\u001b[1;32m    101\u001b[0m     \u001b[0;32mdef\u001b[0m \u001b[0mforward\u001b[0m\u001b[0;34m(\u001b[0m\u001b[0mself\u001b[0m\u001b[0;34m,\u001b[0m \u001b[0minput\u001b[0m\u001b[0;34m:\u001b[0m \u001b[0mTensor\u001b[0m\u001b[0;34m)\u001b[0m \u001b[0;34m->\u001b[0m \u001b[0mTensor\u001b[0m\u001b[0;34m:\u001b[0m\u001b[0;34m\u001b[0m\u001b[0;34m\u001b[0m\u001b[0m\n\u001b[0;32m--> 102\u001b[0;31m         \u001b[0;32mreturn\u001b[0m \u001b[0mF\u001b[0m\u001b[0;34m.\u001b[0m\u001b[0mrelu\u001b[0m\u001b[0;34m(\u001b[0m\u001b[0minput\u001b[0m\u001b[0;34m,\u001b[0m \u001b[0minplace\u001b[0m\u001b[0;34m=\u001b[0m\u001b[0mself\u001b[0m\u001b[0;34m.\u001b[0m\u001b[0minplace\u001b[0m\u001b[0;34m)\u001b[0m\u001b[0;34m\u001b[0m\u001b[0;34m\u001b[0m\u001b[0m\n\u001b[0m\u001b[1;32m    103\u001b[0m \u001b[0;34m\u001b[0m\u001b[0m\n\u001b[1;32m    104\u001b[0m     \u001b[0;32mdef\u001b[0m \u001b[0mextra_repr\u001b[0m\u001b[0;34m(\u001b[0m\u001b[0mself\u001b[0m\u001b[0;34m)\u001b[0m \u001b[0;34m->\u001b[0m \u001b[0mstr\u001b[0m\u001b[0;34m:\u001b[0m\u001b[0;34m\u001b[0m\u001b[0;34m\u001b[0m\u001b[0m\n",
            "\u001b[0;32m/usr/local/lib/python3.9/dist-packages/torch/nn/functional.py\u001b[0m in \u001b[0;36mrelu\u001b[0;34m(input, inplace)\u001b[0m\n\u001b[1;32m   1453\u001b[0m         \u001b[0;32mreturn\u001b[0m \u001b[0mhandle_torch_function\u001b[0m\u001b[0;34m(\u001b[0m\u001b[0mrelu\u001b[0m\u001b[0;34m,\u001b[0m \u001b[0;34m(\u001b[0m\u001b[0minput\u001b[0m\u001b[0;34m,\u001b[0m\u001b[0;34m)\u001b[0m\u001b[0;34m,\u001b[0m \u001b[0minput\u001b[0m\u001b[0;34m,\u001b[0m \u001b[0minplace\u001b[0m\u001b[0;34m=\u001b[0m\u001b[0minplace\u001b[0m\u001b[0;34m)\u001b[0m\u001b[0;34m\u001b[0m\u001b[0;34m\u001b[0m\u001b[0m\n\u001b[1;32m   1454\u001b[0m     \u001b[0;32mif\u001b[0m \u001b[0minplace\u001b[0m\u001b[0;34m:\u001b[0m\u001b[0;34m\u001b[0m\u001b[0;34m\u001b[0m\u001b[0m\n\u001b[0;32m-> 1455\u001b[0;31m         \u001b[0mresult\u001b[0m \u001b[0;34m=\u001b[0m \u001b[0mtorch\u001b[0m\u001b[0;34m.\u001b[0m\u001b[0mrelu_\u001b[0m\u001b[0;34m(\u001b[0m\u001b[0minput\u001b[0m\u001b[0;34m)\u001b[0m\u001b[0;34m\u001b[0m\u001b[0;34m\u001b[0m\u001b[0m\n\u001b[0m\u001b[1;32m   1456\u001b[0m     \u001b[0;32melse\u001b[0m\u001b[0;34m:\u001b[0m\u001b[0;34m\u001b[0m\u001b[0;34m\u001b[0m\u001b[0m\n\u001b[1;32m   1457\u001b[0m         \u001b[0mresult\u001b[0m \u001b[0;34m=\u001b[0m \u001b[0mtorch\u001b[0m\u001b[0;34m.\u001b[0m\u001b[0mrelu\u001b[0m\u001b[0;34m(\u001b[0m\u001b[0minput\u001b[0m\u001b[0;34m)\u001b[0m\u001b[0;34m\u001b[0m\u001b[0;34m\u001b[0m\u001b[0m\n",
            "\u001b[0;31mKeyboardInterrupt\u001b[0m: "
          ]
        }
      ],
      "source": [
        "for epoch in range(num_epochs):  \n",
        "\n",
        "    running_loss = 0.0\n",
        "    for i, data in enumerate(tqdm.tqdm(real_loader)):\n",
        "        msresnet.train()\n",
        "        # get the inputs; data is a list of [inputs, labels]\n",
        "        midi,label = data\n",
        "        midi = midi.cuda()\n",
        "        label = label.cuda()[:,meta_num]\n",
        "#         label = F.one_hot(label.to(torch.int64), num_classes = 10)\n",
        "        \n",
        "        # zero the parameter gradients\n",
        "        optimizer.zero_grad()\n",
        "\n",
        "        # forward + backward + optimize\n",
        "        outputs = msresnet(midi)[0]\n",
        "        loss = criterion(outputs, label.long())\n",
        "        loss.backward()\n",
        "        optimizer.step()\n",
        "\n",
        "        # print statistics\n",
        "        running_loss += loss.item()\n",
        "        if i % 2000 == 1999:    # print every 2000 mini-batches\n",
        "            print(f'[{epoch + 1}, {i + 1:5d}] loss: {running_loss / 2000:.3f}')\n",
        "            running_loss = 0.0\n",
        "    print(running_loss / 41)\n",
        "    if epoch %6 == 5:\n",
        "        val_num = 0\n",
        "        correct_num = 0\n",
        "        with torch.no_grad():\n",
        "            msresnet.eval()\n",
        "            for i, data in enumerate(val_loader):\n",
        "                midi,label = data\n",
        "                midi = midi.cuda()\n",
        "                label = label[:,meta_num]\n",
        "                num = label.shape[0]\n",
        "                val_num += num\n",
        "                outputs = msresnet(midi)[0].argmax(1).cpu()\n",
        "                correct_num += sum(outputs==label)\n",
        "                \n",
        "            print(f\"validation accuracy for epoch {epoch} is : {correct_num/val_num}\")\n",
        "        \n",
        "\n",
        "print('Finished Training')"
      ]
    },
    {
      "cell_type": "code",
      "execution_count": null,
      "id": "51ca7174",
      "metadata": {
        "id": "51ca7174"
      },
      "outputs": [],
      "source": []
    }
  ],
  "metadata": {
    "kernelspec": {
      "display_name": "Full on Python 3.7 (GPU)",
      "language": "python",
      "name": "python3"
    },
    "language_info": {
      "codemirror_mode": {
        "name": "ipython",
        "version": 3
      },
      "file_extension": ".py",
      "mimetype": "text/x-python",
      "name": "python",
      "nbconvert_exporter": "python",
      "pygments_lexer": "ipython3",
      "version": "3.7.11"
    },
    "colab": {
      "provenance": []
    },
    "accelerator": "GPU",
    "gpuClass": "standard"
  },
  "nbformat": 4,
  "nbformat_minor": 5
}